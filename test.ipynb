{
 "cells": [
  {
   "cell_type": "code",
   "execution_count": null,
   "metadata": {},
   "outputs": [],
   "source": [
    "events = xml_processor.events['Name'].values\n",
    "print(np.unique(events))"
   ]
  },
  {
   "cell_type": "code",
   "execution_count": null,
   "metadata": {},
   "outputs": [],
   "source": [
    "event_type = 'Obstructive Apnea'\n",
    "event_df = df_sleep_events[df_sleep_events['Name'].str.contains(event_type)]\n",
    "event_df\n",
    "\n",
    "# 2024-06-21 03:33:36.600\t2024-06-21 03:33:54.830\n",
    "start_datetime = datetime(2024, 6, 21, 4, 10, 00)\n",
    "end_datetime = datetime(2024, 6, 21, 4, 11, 30) \n",
    "\n",
    "start_time = start_datetime\n",
    "end_time = end_datetime\n",
    "\n",
    "filtered_df = df.loc[start_time:end_time]\n",
    "# Make a df subset with all the columns except: \n",
    "# 'ECG', 'Pleth', 'Movement Time (MT)', 'Wakefulness (W)', 'NREM Sleep Stage 1 (N1)', \n",
    "# 'REM Sleep', 'NREM Sleep Stage 2 (N2)', 'NREM Sleep Stage 3 (N3)'\n",
    "columns_to_drop = ['Movement Time (MT)', 'Wakefulness (W)', 'NREM Sleep Stage 1 (N1)', 'REM Sleep', 'NREM Sleep Stage 2 (N2)', 'NREM Sleep Stage 3 (N3)']\n",
    "df_subset = filtered_df.drop(columns=columns_to_drop)\n",
    "print(df_subset.head())\n"
   ]
  },
  {
   "cell_type": "code",
   "execution_count": null,
   "metadata": {},
   "outputs": [],
   "source": [
    "# Define events for specific event types (label value above threshold: 0)\n",
    "# , df_subset['Limb Movement (Right)']\n",
    "events3 = nk.events_find(df_subset[event_type], threshold=0, threshold_keep='above')\n",
    "print(events3)\n",
    "\n",
    "events4 = nk.events_find(df_subset[event_type], threshold=0, threshold_keep='below')\n",
    "print(events4)\n",
    "\n",
    "# Combine the arrays\n",
    "combined_onset = np.concatenate((events3['onset'], events4['onset']))\n",
    "combined_duration = np.concatenate((events3['duration'], events4['duration']))\n",
    "\n",
    "# Sort the arrays based on the combined onset values\n",
    "sorted_indices = np.argsort(combined_onset)\n",
    "sorted_onset = combined_onset[sorted_indices]\n",
    "sorted_duration = combined_duration[sorted_indices]\n",
    "sorted_label = [str(i+1) for i in range(len(sorted_onset))]\n",
    "\n",
    "\n",
    "# Create the merged dictionary\n",
    "merged_events = {\n",
    "    'onset': sorted_onset,\n",
    "    'duration': sorted_duration,\n",
    "    'label': sorted_label\n",
    "}\n",
    "\n",
    "print(merged_events)\n",
    "plot = nk.events_plot(merged_events, df_subset[['ECG', 'Pleth']])\n"
   ]
  },
  {
   "cell_type": "code",
   "execution_count": null,
   "metadata": {},
   "outputs": [],
   "source": [
    "# Process the signal\n",
    "data_clean_rsp, info_rsp = nk.bio_process(\n",
    "                                  rsp=df_subset[\"Pleth\"],\n",
    "                                  keep=df_subset[event_type],  \n",
    "                                  sampling_rate=1024)\n",
    "\n",
    "# Visualize some of the channels\n",
    "data_clean_rsp[[\"RSP_Rate\", event_type]].plot(subplots=True)"
   ]
  }
 ],
 "metadata": {
  "language_info": {
   "name": "python"
  }
 },
 "nbformat": 4,
 "nbformat_minor": 2
}
